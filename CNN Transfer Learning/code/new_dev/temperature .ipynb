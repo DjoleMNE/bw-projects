import time
import numpy as np
import os
from set_dat import prepare_folders
from keras.models import Model, Sequential
from keras.layers import Dense, Input, Lambda
from keras.utils import np_utils
from keras.preprocessing.image import load_img, img_to_array
from keras.preprocessing.image import ImageDataGenerator
from keras.applications import vgg16

start = time.time()
batch_size = 2
nb_epoch = 4
num_cls = 4
tr_samp = 32
vl_samp = 8
strt_cls = 0
bin_dir = 'cal4/'
dat_dir = '../data/'
trn_dir = 'tr4/'
val_dir = 'val4/'
tr_fil = bin_dir + 'features_train_{0:d}_{1:d}.npy'
vl_fil = bin_dir + 'features_validation_{0:d}_{1:d}.npy'
cls_dirs = list(np.sort(os.listdir(dat_dir)))
cls_mode = 'categorical'
img_size=(224, 224)

T = 8

tr_dat = np.load(tr_fil.format(strt_cls, strt_cls + num_cls - 1))
vl_dat = np.load(vl_fil.format(strt_cls, strt_cls + num_cls - 1))

tr_lab = []
vl_lab = []

for cls in range(strt_cls, strt_cls + num_cls):
    tr_lab = tr_lab + tr_samp * [cls]
    vl_lab = vl_lab + vl_samp * [cls]

tr_lab = np_utils.to_categorical(tr_lab)
vl_lab = np_utils.to_categorical(vl_lab)

inp = Input(tr_dat.shape[1:])
temp = Lambda(lambda x: x / T)(inp)
temp_out = Dense(num_cls, activation='softmax')(temp)
out = Dense(num_cls, activation='softmax')(inp)

temp_model = Model(input=inp, output=temp_out)
model = Model(input=inp, output=out)

temp_model.compile(optimizer='rmsprop',
              loss='categorical_crossentropy',
              metrics=['accuracy'])
model.compile(optimizer='rmsprop',
              loss='categorical_crossentropy',
              metrics=['accuracy'])

temp_model.fit(tr_dat, tr_lab, nb_epoch=nb_epoch, batch_size=batch_size,
               validation_data=(vl_dat, vl_lab))
model.fit(tr_dat, tr_lab, nb_epoch=nb_epoch, batch_size=batch_size,
               validation_data=(vl_dat, vl_lab))
