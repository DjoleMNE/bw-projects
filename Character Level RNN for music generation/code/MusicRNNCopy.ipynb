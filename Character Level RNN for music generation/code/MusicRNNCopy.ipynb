{
 "cells": [
  {
   "cell_type": "code",
   "execution_count": 14,
   "metadata": {
    "collapsed": false,
    "deletable": true,
    "editable": true
   },
   "outputs": [],
   "source": [
    "import numpy as np\n",
    "from keras.models import Model, Sequential\n",
    "from keras.layers import Dense, Flatten, Input, Dropout, SimpleRNN\n",
    "from keras.preprocessing.image import load_img, img_to_array\n",
    "from keras.preprocessing.image import ImageDataGenerator\n",
    "from keras.applications import vgg16\n",
    "from keras.callbacks import ModelCheckpoint\n",
    "from keras.utils import np_utils"
   ]
  },
  {
   "cell_type": "code",
   "execution_count": 15,
   "metadata": {
    "collapsed": true
   },
   "outputs": [],
   "source": [
    "#what data are we creating\n",
    "raw_file='just_notes.txt'\n",
    "weight_dir='note_weights/'\n",
    "last_file=None\n",
    "last_epoch=0"
   ]
  },
  {
   "cell_type": "code",
   "execution_count": 16,
   "metadata": {
    "collapsed": true,
    "deletable": true,
    "editable": true
   },
   "outputs": [],
   "source": [
    "#reading in data from file\n",
    "songs = []\n",
    "\n",
    "with open(raw_file) as f:\n",
    "    songs = f.read()\n",
    "label = sorted(list(set(songs)))"
   ]
  },
  {
   "cell_type": "code",
   "execution_count": 17,
   "metadata": {
    "collapsed": true
   },
   "outputs": [],
   "source": [
    "#getting number of classes (one-hot encoding so this is number of unique chars)\n",
    "NUM_CLASSES = len(label)\n",
    "BATCH_SIZE = 30\n",
    "SEQ_LEN = 25"
   ]
  },
  {
   "cell_type": "code",
   "execution_count": 18,
   "metadata": {
    "collapsed": false
   },
   "outputs": [],
   "source": [
    "#formatting training/validation data and labels\n",
    "train_data = list(songs[:round(len(songs)*0.8)])\n",
    "validation_data = list(songs[round(len(songs)*0.8):])\n",
    "\n",
    "train_labels = list(map(lambda x: label.index(x), train_data))\n",
    "validation_labels = list(map(lambda x: label.index(x), validation_data))\n",
    "\n",
    "X = []\n",
    "y = []\n",
    "for i in range(len(train_data) - SEQ_LEN):\n",
    "    X.append(train_labels[i:i+SEQ_LEN])\n",
    "    y.append(train_labels[i+SEQ_LEN])\n",
    "    \n",
    "val_X = []\n",
    "val_y = []\n",
    "for i in range(len(validation_data) - SEQ_LEN):\n",
    "    val_X.append(validation_labels[i:i+SEQ_LEN])\n",
    "    val_y.append(validation_labels[i+SEQ_LEN])\n",
    "\n",
    "X = np.reshape(X, (len(X),SEQ_LEN,1))\n",
    "X = X / len(label)\n",
    "y = np_utils.to_categorical(y)\n",
    "\n",
    "val_X = np.reshape(val_X, (len(val_X), SEQ_LEN, 1))\n",
    "val_y = np_utils.to_categorical(val_y)"
   ]
  },
  {
   "cell_type": "code",
   "execution_count": null,
   "metadata": {
    "collapsed": false,
    "deletable": true,
    "editable": true
   },
   "outputs": [],
   "source": [
    "#creating model\n",
    "model = Sequential()\n",
    "layers = [1, 100, NUM_CLASSES]\n",
    "model.add(SimpleRNN(input_shape=(SEQ_LEN,1), output_dim=layers[1], return_sequences=False))\n",
    "model.add(Dense(layers[2], activation='softmax'))\n",
    "model.compile(optimizer='rmsprop',\n",
    "              loss='categorical_crossentropy',\n",
    "              metrics=['accuracy'])\n",
    "if (last_file):\n",
    "    model.load_weights(weight_dir+last_file)"
   ]
  },
  {
   "cell_type": "code",
   "execution_count": null,
   "metadata": {
    "collapsed": false,
    "deletable": true,
    "editable": true
   },
   "outputs": [
    {
     "name": "stdout",
     "output_type": "stream",
     "text": [
      "Train on 197753 samples, validate on 197753 samples\n",
      "Epoch 1/30\n",
      " 28530/197753 [===>..........................] - ETA: 167s - loss: 3.0004 - acc: 0.2120"
     ]
    }
   ],
   "source": [
    "#training model\n",
    "filepath=weight_dir + \"weights.{epoch:02d}-{val_loss:.2f}.hdf5\"\n",
    "checkpoint = ModelCheckpoint(filepath)\n",
    "\n",
    "res = model.fit(X, y, nb_epoch=30, batch_size=BATCH_SIZE,\n",
    "                validation_data=(X, y), callbacks=[checkpoint],\n",
    "                initial_epoch=last_epoch)"
   ]
  },
  {
   "cell_type": "code",
   "execution_count": null,
   "metadata": {
    "collapsed": true,
    "deletable": true,
    "editable": true
   },
   "outputs": [],
   "source": []
  }
 ],
 "metadata": {
  "anaconda-cloud": {},
  "kernelspec": {
   "display_name": "Python [default]",
   "language": "python",
   "name": "python3"
  },
  "language_info": {
   "codemirror_mode": {
    "name": "ipython",
    "version": 3
   },
   "file_extension": ".py",
   "mimetype": "text/x-python",
   "name": "python",
   "nbconvert_exporter": "python",
   "pygments_lexer": "ipython3",
   "version": "3.5.2"
  }
 },
 "nbformat": 4,
 "nbformat_minor": 2
}
