{
 "cells": [
  {
   "cell_type": "code",
   "execution_count": 272,
   "metadata": {
    "collapsed": false
   },
   "outputs": [],
   "source": [
    "import numpy as np\n",
    "from keras.models import Model, Sequential\n",
    "from keras.layers import Dense, Flatten, Input, Dropout, SimpleRNN\n",
    "from keras.preprocessing.image import load_img, img_to_array\n",
    "from keras.preprocessing.image import ImageDataGenerator\n",
    "from keras.applications import vgg16\n",
    "import random"
   ]
  },
  {
   "cell_type": "code",
   "execution_count": 291,
   "metadata": {
    "collapsed": true
   },
   "outputs": [],
   "source": [
    "#stuff\n",
    "raw_file = 'just_note.txt'\n",
    "weight_dir='note_weights/'\n",
    "last_file='weights.12-2.18.hdf5'"
   ]
  },
  {
   "cell_type": "code",
   "execution_count": 292,
   "metadata": {
    "collapsed": false
   },
   "outputs": [],
   "source": [
    "#reading in data from file\n",
    "raw_text = open(raw_file).read()\n",
    "label = sorted(list(set(raw_text)))"
   ]
  },
  {
   "cell_type": "code",
   "execution_count": 293,
   "metadata": {
    "collapsed": true
   },
   "outputs": [],
   "source": [
    "#getting number of classes (one-hot encoding so this is number of unique chars)\n",
    "NUM_CLASSES = len(label)\n",
    "BATCH_SIZE = 30\n",
    "SEQ_LEN = 25"
   ]
  },
  {
   "cell_type": "code",
   "execution_count": 294,
   "metadata": {
    "collapsed": true
   },
   "outputs": [],
   "source": [
    "#creating model\n",
    "model = Sequential()\n",
    "layers = [1, 100, NUM_CLASSES]\n",
    "model.add(SimpleRNN(input_shape=(SEQ_LEN,1), output_dim=layers[1], return_sequences=False))\n",
    "model.add(Dense(layers[2], activation='softmax'))\n",
    "model.compile(optimizer='rmsprop',\n",
    "              loss='categorical_crossentropy',\n",
    "              metrics=['accuracy'])\n",
    "model.load_weights(weight_dir+last_file)"
   ]
  },
  {
   "cell_type": "code",
   "execution_count": 295,
   "metadata": {
    "collapsed": false,
    "scrolled": false
   },
   "outputs": [
    {
     "name": "stdout",
     "output_type": "stream",
     "text": [
      "B>B B2 |]\n",
      "d | d2B>c | d2e>dB | AABc | c3 B2B2>B | G> |d\n",
      "`e ff |d/ dd2|  ee/| |\n",
      "EFcA/>/f2 c df/d/ cd | c2 cBe g>c | a2d e> B  B CA\"BA \"GA G(GBc cG\"eB2 |^\n",
      "`, |2B2 GG2 A>2|/ B2 AG|G2ec ddf2|gee4 d2:2 |\n",
      "c2G  3ffg |2dBd d2c2 | BGac c2B | G>f BBGG | GGE FBA ||\n",
      "`Gd d2d | c | G3f2f2 | B2G2G2 | A2/D,AB F> |\"\"c d2g-| decd | egdd d2c | B2dce e|ga (|:b c cAe eAA BB B>GGDBD| F2||\n",
      "`Aa g3dA | d2d2 GccF |1cdag f:gB|d2g ffd|g\n",
      "`2ddcB\"B2d/fdff\n",
      "ed e2|fe ee|fa ge e2:/d/e/ e2g/|/G2 |>ecB A2F2| fBfA)g2 cddd|ecde e2AD|FA f2G2 |\n",
      "aDdd geee e eef dAB | d eee f2e/c/| d fe\"BA BG/B/FG c >\n",
      "G/E2F2 | B4 EGFG ||\n",
      "A2BG B2 AB | e2 z|\n",
      "|\n",
      "A2 AB/A/ | FF B2AB | EBABBB | d2 Az `2d2 feeB |:2FAGe FeGc c B/A|gAA BFG| GDA A3d|dce adc|aBd GBE||D^ AFd|ff | d|ee aecd | eAdc B2F2 | (DBA AAF | E3 Ed|e! :B G^|F\"gEG FBB| `>B cA:|G2D G2E|fdc gA||aBA BBf|GBG 3Bc|defa z2e |FfAd|eA AcB>|B> f GAd|eAf fc:|eEf dGB|F>F gE:|B Ed `c|B)B/d D/F/|/E/c/B B>F/|B A2 BB|:c\n",
      "d|fdG d | G/d/ er/c/c/ BF BB/|G G2 cc gA|ge)ff eA|c/ c2 gB|: B B> D>c|\"\"\"Ddg cgee|1cdcB A/:d\n",
      "33feBcB GA (3G2\n"
     ]
    }
   ],
   "source": [
    "#create start\n",
    "labeled_text = list(map(lambda x: label.index(x), raw_text))\n",
    "i = np.random.randint(len(raw_text)-1)\n",
    "sequence = labeled_text[i:i+SEQ_LEN]\n",
    "result = raw_text[i:i+SEQ_LEN]\n",
    "\n",
    "def choose(p):\n",
    "    flip = random.random()\n",
    "    prob = 0\n",
    "    for (label,chance) in enumerate(p):\n",
    "        prob += chance\n",
    "        if (flip < prob):\n",
    "            return label\n",
    "def best(p):\n",
    "    return np.argmax(p)\n",
    "\n",
    "for i in range(1000):\n",
    "    x = np.reshape(sequence, (1, SEQ_LEN, 1))\n",
    "    x = x / len(label)\n",
    "    \n",
    "    p = model.predict(x)[0]   \n",
    "    l = choose(p)\n",
    "    c = label[l]\n",
    "    \n",
    "    sequence = sequence[1:]\n",
    "    sequence.append(l)\n",
    "    result += c\n",
    "print(result)"
   ]
  },
  {
   "cell_type": "code",
   "execution_count": null,
   "metadata": {
    "collapsed": true
   },
   "outputs": [],
   "source": []
  }
 ],
 "metadata": {
  "anaconda-cloud": {},
  "kernelspec": {
   "display_name": "Python [conda root]",
   "language": "python",
   "name": "conda-root-py"
  },
  "language_info": {
   "codemirror_mode": {
    "name": "ipython",
    "version": 3
   },
   "file_extension": ".py",
   "mimetype": "text/x-python",
   "name": "python",
   "nbconvert_exporter": "python",
   "pygments_lexer": "ipython3",
   "version": "3.5.2"
  }
 },
 "nbformat": 4,
 "nbformat_minor": 1
}
