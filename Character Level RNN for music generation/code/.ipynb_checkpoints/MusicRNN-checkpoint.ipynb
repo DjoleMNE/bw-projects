{
 "cells": [
  {
   "cell_type": "code",
   "execution_count": 75,
   "metadata": {
    "collapsed": false,
    "deletable": true,
    "editable": true
   },
   "outputs": [],
   "source": [
    "import numpy as np\n",
    "from keras.models import Model, Sequential\n",
    "from keras.layers import Dense, Flatten, Input, Dropout, SimpleRNN\n",
    "from keras.preprocessing.image import load_img, img_to_array\n",
    "from keras.preprocessing.image import ImageDataGenerator\n",
    "from keras.applications import vgg16"
   ]
  },
  {
   "cell_type": "code",
   "execution_count": 76,
   "metadata": {
    "collapsed": true,
    "deletable": true,
    "editable": true
   },
   "outputs": [],
   "source": [
    "#reading in data from file\n",
    "songs = []\n",
    "song = []\n",
    "\n",
    "with open(\"input.txt\") as f:\n",
    "    for line in f:\n",
    "        if(\"<start>\" == line.strip(\"\\n\")):\n",
    "            song = []\n",
    "        elif(\"<end>\" == line.strip(\"\\n\")):\n",
    "            songs.append(song)\n",
    "        else:\n",
    "            song.append(\"\".join(line.split()))\n",
    "songs = [item for sublist in songs for item in sublist]\n",
    "songs = \"\".join(songs)\n",
    "label = sorted(list(set(songs)))"
   ]
  },
  {
   "cell_type": "code",
   "execution_count": 77,
   "metadata": {
    "collapsed": false
   },
   "outputs": [],
   "source": [
    "#formatting training/validation data and labels\n",
    "train_data = list(songs[:round(len(songs)*0.8)])\n",
    "validation_data = list(songs[round(len(songs)*0.8):])\n",
    "\n",
    "train_labels = list(map(lambda x: label.index(x), train_data))\n",
    "validation_labels = list(map(lambda x: label.index(x), validation_data))\n",
    "\n",
    "dataX = []\n",
    "dataY = []\n",
    "for i in range(len(train_data) - seq_length):\n",
    "    s\n",
    "\n",
    "train_data = np.array(train_data)\n",
    "validation_data = np.array(validation_data)\n",
    "train_labels = np.array(train_labels)\n",
    "validation_labels = np.array(validation_labels)"
   ]
  },
  {
   "cell_type": "code",
   "execution_count": 78,
   "metadata": {
    "collapsed": true
   },
   "outputs": [],
   "source": [
    "#getting number of classes (one-hot encoding so this is number of unique chars)\n",
    "NUM_CLASSES = len(label)\n",
    "BATCH_SIZE = 30"
   ]
  },
  {
   "cell_type": "code",
   "execution_count": 79,
   "metadata": {
    "collapsed": false,
    "deletable": true,
    "editable": true
   },
   "outputs": [],
   "source": [
    "#creating model\n",
    "model = Sequential()\n",
    "layers = [1, 100, NUM_CLASSES]\n",
    "model.add(SimpleRNN(input_dim=layers[0], output_dim=layers[1], return_sequences=True))\n",
    "model.add(Dense(layers[2], activation='softmax'))\n",
    "model.compile(optimizer='rmsprop',\n",
    "              loss='categorical_crossentropy',\n",
    "              metrics=['accuracy'])"
   ]
  },
  {
   "cell_type": "code",
   "execution_count": null,
   "metadata": {
    "collapsed": true,
    "deletable": true,
    "editable": true
   },
   "outputs": [],
   "source": [
    "#training model\n",
    "res = model.fit(train_data, train_labels,\n",
    "                nb_epoch=15, batch_size=BATCH_SIZE,\n",
    "                validation_data=(validation_data, validation_labels))"
   ]
  },
  {
   "cell_type": "code",
   "execution_count": null,
   "metadata": {
    "collapsed": true,
    "deletable": true,
    "editable": true
   },
   "outputs": [],
   "source": []
  }
 ],
 "metadata": {
  "anaconda-cloud": {},
  "kernelspec": {
   "display_name": "Python [default]",
   "language": "python",
   "name": "python3"
  },
  "language_info": {
   "codemirror_mode": {
    "name": "ipython",
    "version": 3
   },
   "file_extension": ".py",
   "mimetype": "text/x-python",
   "name": "python",
   "nbconvert_exporter": "python",
   "pygments_lexer": "ipython3",
   "version": "3.5.2"
  }
 },
 "nbformat": 4,
 "nbformat_minor": 2
}
